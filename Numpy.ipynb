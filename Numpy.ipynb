{
 "cells": [
  {
   "cell_type": "markdown",
   "metadata": {},
   "source": [
    "# Numpy"
   ]
  },
  {
   "cell_type": "code",
   "execution_count": 74,
   "metadata": {},
   "outputs": [
    {
     "data": {
      "text/plain": [
       "'1.19.5'"
      ]
     },
     "execution_count": 74,
     "metadata": {},
     "output_type": "execute_result"
    }
   ],
   "source": [
    "import numpy as np\n",
    "np.__version__ #to check version"
   ]
  },
  {
   "cell_type": "markdown",
   "metadata": {},
   "source": [
    "# Creation of Array"
   ]
  },
  {
   "cell_type": "code",
   "execution_count": 75,
   "metadata": {},
   "outputs": [
    {
     "data": {
      "text/plain": [
       "(array([3, 4, 6, 8, 7]), numpy.ndarray)"
      ]
     },
     "execution_count": 75,
     "metadata": {},
     "output_type": "execute_result"
    }
   ],
   "source": [
    "arr1=np.array([3,4,6,8,7]) #list convert to arry\n",
    "arr1,   type(arr1)   #nd---> n diamontioal"
   ]
  },
  {
   "cell_type": "code",
   "execution_count": 5,
   "metadata": {},
   "outputs": [
    {
     "data": {
      "text/plain": [
       "(array([3, 4, 6, 8, 7]), numpy.ndarray)"
      ]
     },
     "execution_count": 5,
     "metadata": {},
     "output_type": "execute_result"
    }
   ],
   "source": [
    "arr1=np.array((3,4,6,8,7)) #touple convert to arry\n",
    "arr1,type(arr1)   #nd---> n diamontioal"
   ]
  },
  {
   "cell_type": "code",
   "execution_count": 6,
   "metadata": {},
   "outputs": [
    {
     "data": {
      "text/plain": [
       "array([ 5,  6,  7,  8,  9, 10, 11])"
      ]
     },
     "execution_count": 6,
     "metadata": {},
     "output_type": "execute_result"
    }
   ],
   "source": [
    "arr2=np.arange(5,12) #range in array\n",
    "arr2"
   ]
  },
  {
   "cell_type": "code",
   "execution_count": 7,
   "metadata": {},
   "outputs": [
    {
     "data": {
      "text/plain": [
       "array([ 5,  7,  9, 11])"
      ]
     },
     "execution_count": 7,
     "metadata": {},
     "output_type": "execute_result"
    }
   ],
   "source": [
    "arr2=np.arange(5,12,2)  #range in array\n",
    "arr2"
   ]
  },
  {
   "cell_type": "code",
   "execution_count": 76,
   "metadata": {
    "collapsed": true
   },
   "outputs": [
    {
     "data": {
      "text/plain": [
       "array([2.        , 2.003003  , 2.00600601, 2.00900901, 2.01201201,\n",
       "       2.01501502, 2.01801802, 2.02102102, 2.02402402, 2.02702703,\n",
       "       2.03003003, 2.03303303, 2.03603604, 2.03903904, 2.04204204,\n",
       "       2.04504505, 2.04804805, 2.05105105, 2.05405405, 2.05705706,\n",
       "       2.06006006, 2.06306306, 2.06606607, 2.06906907, 2.07207207,\n",
       "       2.07507508, 2.07807808, 2.08108108, 2.08408408, 2.08708709,\n",
       "       2.09009009, 2.09309309, 2.0960961 , 2.0990991 , 2.1021021 ,\n",
       "       2.10510511, 2.10810811, 2.11111111, 2.11411411, 2.11711712,\n",
       "       2.12012012, 2.12312312, 2.12612613, 2.12912913, 2.13213213,\n",
       "       2.13513514, 2.13813814, 2.14114114, 2.14414414, 2.14714715,\n",
       "       2.15015015, 2.15315315, 2.15615616, 2.15915916, 2.16216216,\n",
       "       2.16516517, 2.16816817, 2.17117117, 2.17417417, 2.17717718,\n",
       "       2.18018018, 2.18318318, 2.18618619, 2.18918919, 2.19219219,\n",
       "       2.1951952 , 2.1981982 , 2.2012012 , 2.2042042 , 2.20720721,\n",
       "       2.21021021, 2.21321321, 2.21621622, 2.21921922, 2.22222222,\n",
       "       2.22522523, 2.22822823, 2.23123123, 2.23423423, 2.23723724,\n",
       "       2.24024024, 2.24324324, 2.24624625, 2.24924925, 2.25225225,\n",
       "       2.25525526, 2.25825826, 2.26126126, 2.26426426, 2.26726727,\n",
       "       2.27027027, 2.27327327, 2.27627628, 2.27927928, 2.28228228,\n",
       "       2.28528529, 2.28828829, 2.29129129, 2.29429429, 2.2972973 ,\n",
       "       2.3003003 , 2.3033033 , 2.30630631, 2.30930931, 2.31231231,\n",
       "       2.31531532, 2.31831832, 2.32132132, 2.32432432, 2.32732733,\n",
       "       2.33033033, 2.33333333, 2.33633634, 2.33933934, 2.34234234,\n",
       "       2.34534535, 2.34834835, 2.35135135, 2.35435435, 2.35735736,\n",
       "       2.36036036, 2.36336336, 2.36636637, 2.36936937, 2.37237237,\n",
       "       2.37537538, 2.37837838, 2.38138138, 2.38438438, 2.38738739,\n",
       "       2.39039039, 2.39339339, 2.3963964 , 2.3993994 , 2.4024024 ,\n",
       "       2.40540541, 2.40840841, 2.41141141, 2.41441441, 2.41741742,\n",
       "       2.42042042, 2.42342342, 2.42642643, 2.42942943, 2.43243243,\n",
       "       2.43543544, 2.43843844, 2.44144144, 2.44444444, 2.44744745,\n",
       "       2.45045045, 2.45345345, 2.45645646, 2.45945946, 2.46246246,\n",
       "       2.46546547, 2.46846847, 2.47147147, 2.47447447, 2.47747748,\n",
       "       2.48048048, 2.48348348, 2.48648649, 2.48948949, 2.49249249,\n",
       "       2.4954955 , 2.4984985 , 2.5015015 , 2.5045045 , 2.50750751,\n",
       "       2.51051051, 2.51351351, 2.51651652, 2.51951952, 2.52252252,\n",
       "       2.52552553, 2.52852853, 2.53153153, 2.53453453, 2.53753754,\n",
       "       2.54054054, 2.54354354, 2.54654655, 2.54954955, 2.55255255,\n",
       "       2.55555556, 2.55855856, 2.56156156, 2.56456456, 2.56756757,\n",
       "       2.57057057, 2.57357357, 2.57657658, 2.57957958, 2.58258258,\n",
       "       2.58558559, 2.58858859, 2.59159159, 2.59459459, 2.5975976 ,\n",
       "       2.6006006 , 2.6036036 , 2.60660661, 2.60960961, 2.61261261,\n",
       "       2.61561562, 2.61861862, 2.62162162, 2.62462462, 2.62762763,\n",
       "       2.63063063, 2.63363363, 2.63663664, 2.63963964, 2.64264264,\n",
       "       2.64564565, 2.64864865, 2.65165165, 2.65465465, 2.65765766,\n",
       "       2.66066066, 2.66366366, 2.66666667, 2.66966967, 2.67267267,\n",
       "       2.67567568, 2.67867868, 2.68168168, 2.68468468, 2.68768769,\n",
       "       2.69069069, 2.69369369, 2.6966967 , 2.6996997 , 2.7027027 ,\n",
       "       2.70570571, 2.70870871, 2.71171171, 2.71471471, 2.71771772,\n",
       "       2.72072072, 2.72372372, 2.72672673, 2.72972973, 2.73273273,\n",
       "       2.73573574, 2.73873874, 2.74174174, 2.74474474, 2.74774775,\n",
       "       2.75075075, 2.75375375, 2.75675676, 2.75975976, 2.76276276,\n",
       "       2.76576577, 2.76876877, 2.77177177, 2.77477477, 2.77777778,\n",
       "       2.78078078, 2.78378378, 2.78678679, 2.78978979, 2.79279279,\n",
       "       2.7957958 , 2.7987988 , 2.8018018 , 2.8048048 , 2.80780781,\n",
       "       2.81081081, 2.81381381, 2.81681682, 2.81981982, 2.82282282,\n",
       "       2.82582583, 2.82882883, 2.83183183, 2.83483483, 2.83783784,\n",
       "       2.84084084, 2.84384384, 2.84684685, 2.84984985, 2.85285285,\n",
       "       2.85585586, 2.85885886, 2.86186186, 2.86486486, 2.86786787,\n",
       "       2.87087087, 2.87387387, 2.87687688, 2.87987988, 2.88288288,\n",
       "       2.88588589, 2.88888889, 2.89189189, 2.89489489, 2.8978979 ,\n",
       "       2.9009009 , 2.9039039 , 2.90690691, 2.90990991, 2.91291291,\n",
       "       2.91591592, 2.91891892, 2.92192192, 2.92492492, 2.92792793,\n",
       "       2.93093093, 2.93393393, 2.93693694, 2.93993994, 2.94294294,\n",
       "       2.94594595, 2.94894895, 2.95195195, 2.95495495, 2.95795796,\n",
       "       2.96096096, 2.96396396, 2.96696697, 2.96996997, 2.97297297,\n",
       "       2.97597598, 2.97897898, 2.98198198, 2.98498498, 2.98798799,\n",
       "       2.99099099, 2.99399399, 2.996997  , 3.        , 3.003003  ,\n",
       "       3.00600601, 3.00900901, 3.01201201, 3.01501502, 3.01801802,\n",
       "       3.02102102, 3.02402402, 3.02702703, 3.03003003, 3.03303303,\n",
       "       3.03603604, 3.03903904, 3.04204204, 3.04504505, 3.04804805,\n",
       "       3.05105105, 3.05405405, 3.05705706, 3.06006006, 3.06306306,\n",
       "       3.06606607, 3.06906907, 3.07207207, 3.07507508, 3.07807808,\n",
       "       3.08108108, 3.08408408, 3.08708709, 3.09009009, 3.09309309,\n",
       "       3.0960961 , 3.0990991 , 3.1021021 , 3.10510511, 3.10810811,\n",
       "       3.11111111, 3.11411411, 3.11711712, 3.12012012, 3.12312312,\n",
       "       3.12612613, 3.12912913, 3.13213213, 3.13513514, 3.13813814,\n",
       "       3.14114114, 3.14414414, 3.14714715, 3.15015015, 3.15315315,\n",
       "       3.15615616, 3.15915916, 3.16216216, 3.16516517, 3.16816817,\n",
       "       3.17117117, 3.17417417, 3.17717718, 3.18018018, 3.18318318,\n",
       "       3.18618619, 3.18918919, 3.19219219, 3.1951952 , 3.1981982 ,\n",
       "       3.2012012 , 3.2042042 , 3.20720721, 3.21021021, 3.21321321,\n",
       "       3.21621622, 3.21921922, 3.22222222, 3.22522523, 3.22822823,\n",
       "       3.23123123, 3.23423423, 3.23723724, 3.24024024, 3.24324324,\n",
       "       3.24624625, 3.24924925, 3.25225225, 3.25525526, 3.25825826,\n",
       "       3.26126126, 3.26426426, 3.26726727, 3.27027027, 3.27327327,\n",
       "       3.27627628, 3.27927928, 3.28228228, 3.28528529, 3.28828829,\n",
       "       3.29129129, 3.29429429, 3.2972973 , 3.3003003 , 3.3033033 ,\n",
       "       3.30630631, 3.30930931, 3.31231231, 3.31531532, 3.31831832,\n",
       "       3.32132132, 3.32432432, 3.32732733, 3.33033033, 3.33333333,\n",
       "       3.33633634, 3.33933934, 3.34234234, 3.34534535, 3.34834835,\n",
       "       3.35135135, 3.35435435, 3.35735736, 3.36036036, 3.36336336,\n",
       "       3.36636637, 3.36936937, 3.37237237, 3.37537538, 3.37837838,\n",
       "       3.38138138, 3.38438438, 3.38738739, 3.39039039, 3.39339339,\n",
       "       3.3963964 , 3.3993994 , 3.4024024 , 3.40540541, 3.40840841,\n",
       "       3.41141141, 3.41441441, 3.41741742, 3.42042042, 3.42342342,\n",
       "       3.42642643, 3.42942943, 3.43243243, 3.43543544, 3.43843844,\n",
       "       3.44144144, 3.44444444, 3.44744745, 3.45045045, 3.45345345,\n",
       "       3.45645646, 3.45945946, 3.46246246, 3.46546547, 3.46846847,\n",
       "       3.47147147, 3.47447447, 3.47747748, 3.48048048, 3.48348348,\n",
       "       3.48648649, 3.48948949, 3.49249249, 3.4954955 , 3.4984985 ,\n",
       "       3.5015015 , 3.5045045 , 3.50750751, 3.51051051, 3.51351351,\n",
       "       3.51651652, 3.51951952, 3.52252252, 3.52552553, 3.52852853,\n",
       "       3.53153153, 3.53453453, 3.53753754, 3.54054054, 3.54354354,\n",
       "       3.54654655, 3.54954955, 3.55255255, 3.55555556, 3.55855856,\n",
       "       3.56156156, 3.56456456, 3.56756757, 3.57057057, 3.57357357,\n",
       "       3.57657658, 3.57957958, 3.58258258, 3.58558559, 3.58858859,\n",
       "       3.59159159, 3.59459459, 3.5975976 , 3.6006006 , 3.6036036 ,\n",
       "       3.60660661, 3.60960961, 3.61261261, 3.61561562, 3.61861862,\n",
       "       3.62162162, 3.62462462, 3.62762763, 3.63063063, 3.63363363,\n",
       "       3.63663664, 3.63963964, 3.64264264, 3.64564565, 3.64864865,\n",
       "       3.65165165, 3.65465465, 3.65765766, 3.66066066, 3.66366366,\n",
       "       3.66666667, 3.66966967, 3.67267267, 3.67567568, 3.67867868,\n",
       "       3.68168168, 3.68468468, 3.68768769, 3.69069069, 3.69369369,\n",
       "       3.6966967 , 3.6996997 , 3.7027027 , 3.70570571, 3.70870871,\n",
       "       3.71171171, 3.71471471, 3.71771772, 3.72072072, 3.72372372,\n",
       "       3.72672673, 3.72972973, 3.73273273, 3.73573574, 3.73873874,\n",
       "       3.74174174, 3.74474474, 3.74774775, 3.75075075, 3.75375375,\n",
       "       3.75675676, 3.75975976, 3.76276276, 3.76576577, 3.76876877,\n",
       "       3.77177177, 3.77477477, 3.77777778, 3.78078078, 3.78378378,\n",
       "       3.78678679, 3.78978979, 3.79279279, 3.7957958 , 3.7987988 ,\n",
       "       3.8018018 , 3.8048048 , 3.80780781, 3.81081081, 3.81381381,\n",
       "       3.81681682, 3.81981982, 3.82282282, 3.82582583, 3.82882883,\n",
       "       3.83183183, 3.83483483, 3.83783784, 3.84084084, 3.84384384,\n",
       "       3.84684685, 3.84984985, 3.85285285, 3.85585586, 3.85885886,\n",
       "       3.86186186, 3.86486486, 3.86786787, 3.87087087, 3.87387387,\n",
       "       3.87687688, 3.87987988, 3.88288288, 3.88588589, 3.88888889,\n",
       "       3.89189189, 3.89489489, 3.8978979 , 3.9009009 , 3.9039039 ,\n",
       "       3.90690691, 3.90990991, 3.91291291, 3.91591592, 3.91891892,\n",
       "       3.92192192, 3.92492492, 3.92792793, 3.93093093, 3.93393393,\n",
       "       3.93693694, 3.93993994, 3.94294294, 3.94594595, 3.94894895,\n",
       "       3.95195195, 3.95495495, 3.95795796, 3.96096096, 3.96396396,\n",
       "       3.96696697, 3.96996997, 3.97297297, 3.97597598, 3.97897898,\n",
       "       3.98198198, 3.98498498, 3.98798799, 3.99099099, 3.99399399,\n",
       "       3.996997  , 4.        , 4.003003  , 4.00600601, 4.00900901,\n",
       "       4.01201201, 4.01501502, 4.01801802, 4.02102102, 4.02402402,\n",
       "       4.02702703, 4.03003003, 4.03303303, 4.03603604, 4.03903904,\n",
       "       4.04204204, 4.04504505, 4.04804805, 4.05105105, 4.05405405,\n",
       "       4.05705706, 4.06006006, 4.06306306, 4.06606607, 4.06906907,\n",
       "       4.07207207, 4.07507508, 4.07807808, 4.08108108, 4.08408408,\n",
       "       4.08708709, 4.09009009, 4.09309309, 4.0960961 , 4.0990991 ,\n",
       "       4.1021021 , 4.10510511, 4.10810811, 4.11111111, 4.11411411,\n",
       "       4.11711712, 4.12012012, 4.12312312, 4.12612613, 4.12912913,\n",
       "       4.13213213, 4.13513514, 4.13813814, 4.14114114, 4.14414414,\n",
       "       4.14714715, 4.15015015, 4.15315315, 4.15615616, 4.15915916,\n",
       "       4.16216216, 4.16516517, 4.16816817, 4.17117117, 4.17417417,\n",
       "       4.17717718, 4.18018018, 4.18318318, 4.18618619, 4.18918919,\n",
       "       4.19219219, 4.1951952 , 4.1981982 , 4.2012012 , 4.2042042 ,\n",
       "       4.20720721, 4.21021021, 4.21321321, 4.21621622, 4.21921922,\n",
       "       4.22222222, 4.22522523, 4.22822823, 4.23123123, 4.23423423,\n",
       "       4.23723724, 4.24024024, 4.24324324, 4.24624625, 4.24924925,\n",
       "       4.25225225, 4.25525526, 4.25825826, 4.26126126, 4.26426426,\n",
       "       4.26726727, 4.27027027, 4.27327327, 4.27627628, 4.27927928,\n",
       "       4.28228228, 4.28528529, 4.28828829, 4.29129129, 4.29429429,\n",
       "       4.2972973 , 4.3003003 , 4.3033033 , 4.30630631, 4.30930931,\n",
       "       4.31231231, 4.31531532, 4.31831832, 4.32132132, 4.32432432,\n",
       "       4.32732733, 4.33033033, 4.33333333, 4.33633634, 4.33933934,\n",
       "       4.34234234, 4.34534535, 4.34834835, 4.35135135, 4.35435435,\n",
       "       4.35735736, 4.36036036, 4.36336336, 4.36636637, 4.36936937,\n",
       "       4.37237237, 4.37537538, 4.37837838, 4.38138138, 4.38438438,\n",
       "       4.38738739, 4.39039039, 4.39339339, 4.3963964 , 4.3993994 ,\n",
       "       4.4024024 , 4.40540541, 4.40840841, 4.41141141, 4.41441441,\n",
       "       4.41741742, 4.42042042, 4.42342342, 4.42642643, 4.42942943,\n",
       "       4.43243243, 4.43543544, 4.43843844, 4.44144144, 4.44444444,\n",
       "       4.44744745, 4.45045045, 4.45345345, 4.45645646, 4.45945946,\n",
       "       4.46246246, 4.46546547, 4.46846847, 4.47147147, 4.47447447,\n",
       "       4.47747748, 4.48048048, 4.48348348, 4.48648649, 4.48948949,\n",
       "       4.49249249, 4.4954955 , 4.4984985 , 4.5015015 , 4.5045045 ,\n",
       "       4.50750751, 4.51051051, 4.51351351, 4.51651652, 4.51951952,\n",
       "       4.52252252, 4.52552553, 4.52852853, 4.53153153, 4.53453453,\n",
       "       4.53753754, 4.54054054, 4.54354354, 4.54654655, 4.54954955,\n",
       "       4.55255255, 4.55555556, 4.55855856, 4.56156156, 4.56456456,\n",
       "       4.56756757, 4.57057057, 4.57357357, 4.57657658, 4.57957958,\n",
       "       4.58258258, 4.58558559, 4.58858859, 4.59159159, 4.59459459,\n",
       "       4.5975976 , 4.6006006 , 4.6036036 , 4.60660661, 4.60960961,\n",
       "       4.61261261, 4.61561562, 4.61861862, 4.62162162, 4.62462462,\n",
       "       4.62762763, 4.63063063, 4.63363363, 4.63663664, 4.63963964,\n",
       "       4.64264264, 4.64564565, 4.64864865, 4.65165165, 4.65465465,\n",
       "       4.65765766, 4.66066066, 4.66366366, 4.66666667, 4.66966967,\n",
       "       4.67267267, 4.67567568, 4.67867868, 4.68168168, 4.68468468,\n",
       "       4.68768769, 4.69069069, 4.69369369, 4.6966967 , 4.6996997 ,\n",
       "       4.7027027 , 4.70570571, 4.70870871, 4.71171171, 4.71471471,\n",
       "       4.71771772, 4.72072072, 4.72372372, 4.72672673, 4.72972973,\n",
       "       4.73273273, 4.73573574, 4.73873874, 4.74174174, 4.74474474,\n",
       "       4.74774775, 4.75075075, 4.75375375, 4.75675676, 4.75975976,\n",
       "       4.76276276, 4.76576577, 4.76876877, 4.77177177, 4.77477477,\n",
       "       4.77777778, 4.78078078, 4.78378378, 4.78678679, 4.78978979,\n",
       "       4.79279279, 4.7957958 , 4.7987988 , 4.8018018 , 4.8048048 ,\n",
       "       4.80780781, 4.81081081, 4.81381381, 4.81681682, 4.81981982,\n",
       "       4.82282282, 4.82582583, 4.82882883, 4.83183183, 4.83483483,\n",
       "       4.83783784, 4.84084084, 4.84384384, 4.84684685, 4.84984985,\n",
       "       4.85285285, 4.85585586, 4.85885886, 4.86186186, 4.86486486,\n",
       "       4.86786787, 4.87087087, 4.87387387, 4.87687688, 4.87987988,\n",
       "       4.88288288, 4.88588589, 4.88888889, 4.89189189, 4.89489489,\n",
       "       4.8978979 , 4.9009009 , 4.9039039 , 4.90690691, 4.90990991,\n",
       "       4.91291291, 4.91591592, 4.91891892, 4.92192192, 4.92492492,\n",
       "       4.92792793, 4.93093093, 4.93393393, 4.93693694, 4.93993994,\n",
       "       4.94294294, 4.94594595, 4.94894895, 4.95195195, 4.95495495,\n",
       "       4.95795796, 4.96096096, 4.96396396, 4.96696697, 4.96996997,\n",
       "       4.97297297, 4.97597598, 4.97897898, 4.98198198, 4.98498498,\n",
       "       4.98798799, 4.99099099, 4.99399399, 4.996997  , 5.        ])"
      ]
     },
     "execution_count": 76,
     "metadata": {},
     "output_type": "execute_result"
    }
   ],
   "source": [
    "arr3=np.linspace(2,5,1000)  #linspace---> 2 theke 5 er moddhe kto gulo sample chai. means 2 theke 5 er moddhe kto gulo number+ hidden  number ase ta show korbe and 1000---> ta number\n",
    "arr3"
   ]
  },
  {
   "cell_type": "code",
   "execution_count": 9,
   "metadata": {},
   "outputs": [
    {
     "data": {
      "text/plain": [
       "array([0.93396509, 0.99840265, 0.48041678, 0.68972013, 0.00318397,\n",
       "       0.92152124, 0.84946199, 0.91832137, 0.70996146, 0.72613661])"
      ]
     },
     "execution_count": 9,
     "metadata": {},
     "output_type": "execute_result"
    }
   ],
   "source": [
    "np.random.random(10)  #random array inisilize kore./10 values"
   ]
  },
  {
   "cell_type": "markdown",
   "metadata": {},
   "source": [
    "# Generation"
   ]
  },
  {
   "cell_type": "code",
   "execution_count": 77,
   "metadata": {},
   "outputs": [
    {
     "data": {
      "text/plain": [
       "array([[ 0.        , 15.65247584],\n",
       "       [31.30495168, 46.95742753]])"
      ]
     },
     "execution_count": 77,
     "metadata": {},
     "output_type": "execute_result"
    }
   ],
   "source": [
    "#need 2 dim array\n",
    "arr5=np.empty([2,2]) #we get some random values by 2*2 matrix and it`s give random numbers.\n",
    "arr5"
   ]
  },
  {
   "cell_type": "code",
   "execution_count": 78,
   "metadata": {},
   "outputs": [
    {
     "data": {
      "text/plain": [
       "array([[2. , 2.5, 3. ],\n",
       "       [3.5, 4. , 4.5]])"
      ]
     },
     "execution_count": 78,
     "metadata": {},
     "output_type": "execute_result"
    }
   ],
   "source": [
    "#need 2 dim array\n",
    "arr5=np.empty([2,3]) #we get some random values by 2*3 matrix and it`s give random numbers.\n",
    "arr5"
   ]
  },
  {
   "cell_type": "code",
   "execution_count": 12,
   "metadata": {},
   "outputs": [
    {
     "data": {
      "text/plain": [
       "1"
      ]
     },
     "execution_count": 12,
     "metadata": {},
     "output_type": "execute_result"
    }
   ],
   "source": [
    "arr1.ndim #ndim---->check dimension."
   ]
  },
  {
   "cell_type": "code",
   "execution_count": 13,
   "metadata": {},
   "outputs": [
    {
     "data": {
      "text/plain": [
       "array([3, 4, 6, 8, 7])"
      ]
     },
     "execution_count": 13,
     "metadata": {},
     "output_type": "execute_result"
    }
   ],
   "source": [
    "arr1"
   ]
  },
  {
   "cell_type": "code",
   "execution_count": 79,
   "metadata": {},
   "outputs": [
    {
     "data": {
      "text/plain": [
       "5"
      ]
     },
     "execution_count": 79,
     "metadata": {},
     "output_type": "execute_result"
    }
   ],
   "source": [
    "arr1.size"
   ]
  },
  {
   "cell_type": "code",
   "execution_count": 15,
   "metadata": {},
   "outputs": [
    {
     "data": {
      "text/plain": [
       "((5,), (2, 3))"
      ]
     },
     "execution_count": 15,
     "metadata": {},
     "output_type": "execute_result"
    }
   ],
   "source": [
    "arr1.shape ,  arr5.shape"
   ]
  },
  {
   "cell_type": "code",
   "execution_count": 16,
   "metadata": {},
   "outputs": [
    {
     "data": {
      "text/plain": [
       "dtype('int32')"
      ]
     },
     "execution_count": 16,
     "metadata": {},
     "output_type": "execute_result"
    }
   ],
   "source": [
    "arr1.dtype"
   ]
  },
  {
   "cell_type": "code",
   "execution_count": 17,
   "metadata": {},
   "outputs": [
    {
     "data": {
      "text/plain": [
       "array([[0, 0, 0],\n",
       "       [0, 0, 0]], dtype=int64)"
      ]
     },
     "execution_count": 17,
     "metadata": {},
     "output_type": "execute_result"
    }
   ],
   "source": [
    "#need 2 dim array\n",
    "arr5=np.empty([2,3],dtype=np.int64) #we get some random values by 2*3 matrix\n",
    "arr5"
   ]
  },
  {
   "cell_type": "code",
   "execution_count": 18,
   "metadata": {},
   "outputs": [
    {
     "data": {
      "text/plain": [
       "dtype('int64')"
      ]
     },
     "execution_count": 18,
     "metadata": {},
     "output_type": "execute_result"
    }
   ],
   "source": [
    "arr5.dtype"
   ]
  },
  {
   "cell_type": "code",
   "execution_count": 19,
   "metadata": {},
   "outputs": [
    {
     "data": {
      "text/plain": [
       "4"
      ]
     },
     "execution_count": 19,
     "metadata": {},
     "output_type": "execute_result"
    }
   ],
   "source": [
    "arr1.itemsize #it contain 4 bite address"
   ]
  },
  {
   "cell_type": "code",
   "execution_count": 20,
   "metadata": {},
   "outputs": [
    {
     "data": {
      "text/plain": [
       "8"
      ]
     },
     "execution_count": 20,
     "metadata": {},
     "output_type": "execute_result"
    }
   ],
   "source": [
    "arr5.itemsize  #it contain 8 bite of space"
   ]
  },
  {
   "cell_type": "markdown",
   "metadata": {},
   "source": [
    "# Identy Matrix"
   ]
  },
  {
   "cell_type": "code",
   "execution_count": 81,
   "metadata": {},
   "outputs": [
    {
     "data": {
      "text/plain": [
       "array([[1., 0., 0.],\n",
       "       [0., 1., 0.],\n",
       "       [0., 0., 1.]])"
      ]
     },
     "execution_count": 81,
     "metadata": {},
     "output_type": "execute_result"
    }
   ],
   "source": [
    "np.eye(3,3) #nijer position sudhu 1 hbe bki gulo 0 hbe"
   ]
  },
  {
   "cell_type": "code",
   "execution_count": 22,
   "metadata": {},
   "outputs": [
    {
     "data": {
      "text/plain": [
       "array([[0., 1., 0.],\n",
       "       [0., 0., 1.],\n",
       "       [0., 0., 0.]])"
      ]
     },
     "execution_count": 22,
     "metadata": {},
     "output_type": "execute_result"
    }
   ],
   "source": [
    "np.eye(3,3, k=1) #1 dile samne 0 hbe,columns wise "
   ]
  },
  {
   "cell_type": "code",
   "execution_count": 23,
   "metadata": {},
   "outputs": [
    {
     "data": {
      "text/plain": [
       "array([[0., 0., 0.],\n",
       "       [1., 0., 0.],\n",
       "       [0., 1., 0.]])"
      ]
     },
     "execution_count": 23,
     "metadata": {},
     "output_type": "execute_result"
    }
   ],
   "source": [
    "np.eye(3,3, k=-1) #-1 dile samne 0 hbe,row wise "
   ]
  },
  {
   "cell_type": "code",
   "execution_count": 24,
   "metadata": {},
   "outputs": [
    {
     "data": {
      "text/plain": [
       "array([[0., 0.],\n",
       "       [0., 0.]])"
      ]
     },
     "execution_count": 24,
     "metadata": {},
     "output_type": "execute_result"
    }
   ],
   "source": [
    "np.zeros([2,2])   #matrix with 0`s"
   ]
  },
  {
   "cell_type": "code",
   "execution_count": 25,
   "metadata": {},
   "outputs": [
    {
     "data": {
      "text/plain": [
       "array([[1., 1., 1.],\n",
       "       [1., 1., 1.],\n",
       "       [1., 1., 1.]])"
      ]
     },
     "execution_count": 25,
     "metadata": {},
     "output_type": "execute_result"
    }
   ],
   "source": [
    "np.ones([3,3])   #matrix with 1`s"
   ]
  },
  {
   "cell_type": "code",
   "execution_count": 26,
   "metadata": {},
   "outputs": [
    {
     "data": {
      "text/plain": [
       "array([[9, 9, 9],\n",
       "       [9, 9, 9],\n",
       "       [9, 9, 9]])"
      ]
     },
     "execution_count": 26,
     "metadata": {},
     "output_type": "execute_result"
    }
   ],
   "source": [
    "np.full((3,3), 9) #3*3 matrix fill with 9"
   ]
  },
  {
   "cell_type": "markdown",
   "metadata": {},
   "source": [
    "# Array types"
   ]
  },
  {
   "cell_type": "code",
   "execution_count": 27,
   "metadata": {},
   "outputs": [
    {
     "data": {
      "text/plain": [
       "array([5, 6, 7], dtype=int64)"
      ]
     },
     "execution_count": 27,
     "metadata": {},
     "output_type": "execute_result"
    }
   ],
   "source": [
    "#int arary\n",
    "intArray=np.array([5,6,7],dtype=np.int64)\n",
    "intArray"
   ]
  },
  {
   "cell_type": "code",
   "execution_count": 28,
   "metadata": {},
   "outputs": [
    {
     "data": {
      "text/plain": [
       "array([5., 6., 7.])"
      ]
     },
     "execution_count": 28,
     "metadata": {},
     "output_type": "execute_result"
    }
   ],
   "source": [
    "#int arary\n",
    "flotArray=np.array([5,6,7],dtype=np.float64)\n",
    "flotArray"
   ]
  },
  {
   "cell_type": "code",
   "execution_count": 82,
   "metadata": {},
   "outputs": [
    {
     "data": {
      "text/plain": [
       "(array([5.+0.j, 6.+0.j, 7.+0.j], dtype=complex64),\n",
       " array([0., 0., 0.], dtype=float32))"
      ]
     },
     "execution_count": 82,
     "metadata": {},
     "output_type": "execute_result"
    }
   ],
   "source": [
    "#complex array\n",
    "comArray=np.array([5,6,7],dtype=np.complex64)\n",
    "comArray,  comArray.imag #----> just give me imaganary number"
   ]
  },
  {
   "cell_type": "code",
   "execution_count": 30,
   "metadata": {},
   "outputs": [
    {
     "data": {
      "text/plain": [
       "array([b'Apple', b'ball', b'cat'], dtype='|S5')"
      ]
     },
     "execution_count": 30,
     "metadata": {},
     "output_type": "execute_result"
    }
   ],
   "source": [
    "#String array\n",
    "stringArray=np.array([\"Apple\",\"ball\",\"cat\"], dtype=np.string_)\n",
    "stringArray  #b--->byte from"
   ]
  },
  {
   "cell_type": "code",
   "execution_count": 31,
   "metadata": {},
   "outputs": [
    {
     "data": {
      "text/plain": [
       "array([ True,  True,  True, False])"
      ]
     },
     "execution_count": 31,
     "metadata": {},
     "output_type": "execute_result"
    }
   ],
   "source": [
    "#bool arary\n",
    "intarray=np.array([5,6,7,0],dtype=np.bool8)\n",
    "intarray"
   ]
  },
  {
   "cell_type": "code",
   "execution_count": 32,
   "metadata": {},
   "outputs": [
    {
     "data": {
      "text/plain": [
       "array([[0., 0., 0., 0.],\n",
       "       [0., 1., 2., 3.],\n",
       "       [0., 2., 4., 6.],\n",
       "       [0., 3., 6., 9.]])"
      ]
     },
     "execution_count": 32,
     "metadata": {},
     "output_type": "execute_result"
    }
   ],
   "source": [
    "def f(r,c):\n",
    "    return r*c #r*c is the indices\n",
    "arr7=np.fromfunction(f, shape=(4,4)) #eta 3*3 matrix dicce /r*c=row & columns\n",
    "arr7"
   ]
  },
  {
   "cell_type": "markdown",
   "metadata": {},
   "source": [
    "# slicing"
   ]
  },
  {
   "cell_type": "code",
   "execution_count": 33,
   "metadata": {},
   "outputs": [
    {
     "data": {
      "text/plain": [
       "array([[1., 2., 3.],\n",
       "       [2., 4., 6.],\n",
       "       [3., 6., 9.]])"
      ]
     },
     "execution_count": 33,
     "metadata": {},
     "output_type": "execute_result"
    }
   ],
   "source": [
    "arr7[1:, 1:]"
   ]
  },
  {
   "cell_type": "code",
   "execution_count": 34,
   "metadata": {},
   "outputs": [
    {
     "data": {
      "text/plain": [
       "array([[0., 1., 2., 3.],\n",
       "       [0., 3., 6., 9.]])"
      ]
     },
     "execution_count": 34,
     "metadata": {},
     "output_type": "execute_result"
    }
   ],
   "source": [
    "arr7[1::2]"
   ]
  },
  {
   "cell_type": "markdown",
   "metadata": {},
   "source": [
    "# Filtering"
   ]
  },
  {
   "cell_type": "code",
   "execution_count": 35,
   "metadata": {},
   "outputs": [
    {
     "data": {
      "text/plain": [
       "array([3., 4., 6., 3., 6., 9.])"
      ]
     },
     "execution_count": 35,
     "metadata": {},
     "output_type": "execute_result"
    }
   ],
   "source": [
    "arr7[arr7 > 2] #we  get getter then 2 values"
   ]
  },
  {
   "cell_type": "code",
   "execution_count": 36,
   "metadata": {},
   "outputs": [
    {
     "data": {
      "text/plain": [
       "array([3., 4., 6., 3., 6.])"
      ]
     },
     "execution_count": 36,
     "metadata": {},
     "output_type": "execute_result"
    }
   ],
   "source": [
    "arr7[(arr7 > 2) & (arr7 <9)] #we  get getter then 2  and small then 9values"
   ]
  },
  {
   "cell_type": "code",
   "execution_count": 37,
   "metadata": {},
   "outputs": [
    {
     "data": {
      "text/plain": [
       "array([2., 3., 2., 4., 6., 3., 6., 9.])"
      ]
     },
     "execution_count": 37,
     "metadata": {},
     "output_type": "execute_result"
    }
   ],
   "source": [
    "arr7[~(arr7<2)] #~ ----> True chara bki gulo share korbe mane 2 er theke bro gulo bad e sob pbo"
   ]
  },
  {
   "cell_type": "code",
   "execution_count": 38,
   "metadata": {},
   "outputs": [
    {
     "data": {
      "text/plain": [
       "array([[False, False, False, False],\n",
       "       [False, False, False,  True],\n",
       "       [False, False,  True,  True],\n",
       "       [False,  True,  True,  True]])"
      ]
     },
     "execution_count": 38,
     "metadata": {},
     "output_type": "execute_result"
    }
   ],
   "source": [
    "arr7>2"
   ]
  },
  {
   "cell_type": "markdown",
   "metadata": {},
   "source": [
    "# Scaler Operation"
   ]
  },
  {
   "cell_type": "code",
   "execution_count": 39,
   "metadata": {},
   "outputs": [
    {
     "data": {
      "text/plain": [
       "array([4, 5, 6, 7, 8, 9])"
      ]
     },
     "execution_count": 39,
     "metadata": {},
     "output_type": "execute_result"
    }
   ],
   "source": [
    "arr8=np.arange(4,10)\n",
    "arr8"
   ]
  },
  {
   "cell_type": "code",
   "execution_count": 40,
   "metadata": {},
   "outputs": [
    {
     "data": {
      "text/plain": [
       "(array([ 6,  7,  8,  9, 10, 11]),\n",
       " array([2, 3, 4, 5, 6, 7]),\n",
       " array([ 8, 10, 12, 14, 16, 18]),\n",
       " array([2. , 2.5, 3. , 3.5, 4. , 4.5]))"
      ]
     },
     "execution_count": 40,
     "metadata": {},
     "output_type": "execute_result"
    }
   ],
   "source": [
    "arr8+2,arr8-2,arr8*2,arr8/2"
   ]
  },
  {
   "cell_type": "code",
   "execution_count": 41,
   "metadata": {},
   "outputs": [
    {
     "data": {
      "text/plain": [
       "(array([16, 25, 36, 49, 64, 81], dtype=int32),\n",
       " array([0, 1, 0, 1, 0, 1], dtype=int32))"
      ]
     },
     "execution_count": 41,
     "metadata": {},
     "output_type": "execute_result"
    }
   ],
   "source": [
    "arr8**2,  arr8%2"
   ]
  },
  {
   "cell_type": "code",
   "execution_count": 42,
   "metadata": {},
   "outputs": [
    {
     "data": {
      "text/plain": [
       "(array([ 6,  7,  8,  9, 10, 11]),\n",
       " array([2, 3, 4, 5, 6, 7]),\n",
       " array([ 8, 10, 12, 14, 16, 18]),\n",
       " array([2. , 2.5, 3. , 3.5, 4. , 4.5]),\n",
       " array([16, 25, 36, 49, 64, 81], dtype=int32),\n",
       " array([0, 1, 0, 1, 0, 1], dtype=int32))"
      ]
     },
     "execution_count": 42,
     "metadata": {},
     "output_type": "execute_result"
    }
   ],
   "source": [
    "np.add(arr8,2),np.subtract(arr8,2),np.multiply(arr8,2),np.divide(arr8,2),np.power(arr8,2),np.mod(arr8,2)"
   ]
  },
  {
   "cell_type": "markdown",
   "metadata": {},
   "source": [
    "# Matrix and Vector OPeration "
   ]
  },
  {
   "cell_type": "code",
   "execution_count": 43,
   "metadata": {},
   "outputs": [
    {
     "data": {
      "text/plain": [
       "array([ 8, 10, 12, 14, 16, 18])"
      ]
     },
     "execution_count": 43,
     "metadata": {},
     "output_type": "execute_result"
    }
   ],
   "source": [
    "arr8+arr8"
   ]
  },
  {
   "cell_type": "code",
   "execution_count": 44,
   "metadata": {},
   "outputs": [
    {
     "data": {
      "text/plain": [
       "array([4, 5, 6, 7, 8, 9])"
      ]
     },
     "execution_count": 44,
     "metadata": {},
     "output_type": "execute_result"
    }
   ],
   "source": [
    "arr8"
   ]
  },
  {
   "cell_type": "code",
   "execution_count": 45,
   "metadata": {},
   "outputs": [
    {
     "data": {
      "text/plain": [
       "array([      256,      3125,     46656,    823543,  16777216, 387420489],\n",
       "      dtype=int32)"
      ]
     },
     "execution_count": 45,
     "metadata": {},
     "output_type": "execute_result"
    }
   ],
   "source": [
    "arr8**arr8"
   ]
  },
  {
   "cell_type": "markdown",
   "metadata": {},
   "source": [
    "# Matrix Multipication"
   ]
  },
  {
   "cell_type": "code",
   "execution_count": 46,
   "metadata": {},
   "outputs": [],
   "source": [
    "#columns of first == rows of 2nd matrix and we use @ for multipication\n",
    "arr8=arr7@arr7"
   ]
  },
  {
   "cell_type": "markdown",
   "metadata": {},
   "source": [
    "# Stastics"
   ]
  },
  {
   "cell_type": "code",
   "execution_count": 47,
   "metadata": {
    "scrolled": true
   },
   "outputs": [
    {
     "data": {
      "text/plain": [
       "array([[0., 0., 0., 0.],\n",
       "       [0., 1., 2., 3.],\n",
       "       [0., 2., 4., 6.],\n",
       "       [0., 3., 6., 9.]])"
      ]
     },
     "execution_count": 47,
     "metadata": {},
     "output_type": "execute_result"
    }
   ],
   "source": [
    "arr7"
   ]
  },
  {
   "cell_type": "code",
   "execution_count": 48,
   "metadata": {},
   "outputs": [
    {
     "data": {
      "text/plain": [
       "31.5"
      ]
     },
     "execution_count": 48,
     "metadata": {},
     "output_type": "execute_result"
    }
   ],
   "source": [
    "arr8.mean()   # return whole Matrix mean"
   ]
  },
  {
   "cell_type": "code",
   "execution_count": 49,
   "metadata": {},
   "outputs": [
    {
     "data": {
      "text/plain": [
       "array([ 0., 21., 42., 63.])"
      ]
     },
     "execution_count": 49,
     "metadata": {},
     "output_type": "execute_result"
    }
   ],
   "source": [
    "arr8.mean(axis=0)   # mean of rows"
   ]
  },
  {
   "cell_type": "code",
   "execution_count": 50,
   "metadata": {},
   "outputs": [
    {
     "data": {
      "text/plain": [
       "array([ 0., 21., 42., 63.])"
      ]
     },
     "execution_count": 50,
     "metadata": {},
     "output_type": "execute_result"
    }
   ],
   "source": [
    "arr8.mean(axis=1)   # mean of columns"
   ]
  },
  {
   "cell_type": "code",
   "execution_count": 51,
   "metadata": {},
   "outputs": [
    {
     "data": {
      "text/plain": [
       "(21.0, array([ 0., 21., 42., 63.]), array([ 0., 21., 42., 63.]))"
      ]
     },
     "execution_count": 51,
     "metadata": {},
     "output_type": "execute_result"
    }
   ],
   "source": [
    "# Median\n",
    "np.median(arr8), np.median(arr8, axis=0), np.median(arr8, axis=1)"
   ]
  },
  {
   "cell_type": "code",
   "execution_count": 52,
   "metadata": {},
   "outputs": [
    {
     "data": {
      "text/plain": [
       "(True, False)"
      ]
     },
     "execution_count": 52,
     "metadata": {},
     "output_type": "execute_result"
    }
   ],
   "source": [
    "arr8.any(), arr8.all() #any---> any value true ki na check korbe/ all--> all value true hole true return korbe"
   ]
  },
  {
   "cell_type": "code",
   "execution_count": 53,
   "metadata": {},
   "outputs": [
    {
     "data": {
      "text/plain": [
       "(1408.75,\n",
       " array([   0.,  245.,  980., 2205.]),\n",
       " array([   0.,  245.,  980., 2205.]))"
      ]
     },
     "execution_count": 53,
     "metadata": {},
     "output_type": "execute_result"
    }
   ],
   "source": [
    "# Variance\n",
    "arr8.var(), arr8.var(axis=0), arr8.var(axis=1)"
   ]
  },
  {
   "cell_type": "code",
   "execution_count": 54,
   "metadata": {},
   "outputs": [
    {
     "data": {
      "text/plain": [
       "(0.0, 126.0)"
      ]
     },
     "execution_count": 54,
     "metadata": {},
     "output_type": "execute_result"
    }
   ],
   "source": [
    "arr8.min(), arr8.max()"
   ]
  },
  {
   "cell_type": "code",
   "execution_count": 55,
   "metadata": {},
   "outputs": [
    {
     "data": {
      "text/plain": [
       "(array([0., 0., 0., 0.]), array([  0.,  42.,  84., 126.]))"
      ]
     },
     "execution_count": 55,
     "metadata": {},
     "output_type": "execute_result"
    }
   ],
   "source": [
    "arr8.min(axis=0), arr8.max(axis=0)"
   ]
  },
  {
   "cell_type": "code",
   "execution_count": 56,
   "metadata": {},
   "outputs": [
    {
     "data": {
      "text/plain": [
       "array([ 0.        , 15.65247584, 31.30495168, 46.95742753])"
      ]
     },
     "execution_count": 56,
     "metadata": {},
     "output_type": "execute_result"
    }
   ],
   "source": [
    "# Standard Deviation\n",
    "np.std(arr8, axis=0)"
   ]
  },
  {
   "cell_type": "markdown",
   "metadata": {},
   "source": [
    "# Shaping\n"
   ]
  },
  {
   "cell_type": "code",
   "execution_count": 57,
   "metadata": {},
   "outputs": [
    {
     "data": {
      "text/plain": [
       "(array([ 1.        ,  1.81818182,  2.63636364,  3.45454545,  4.27272727,\n",
       "         5.09090909,  5.90909091,  6.72727273,  7.54545455,  8.36363636,\n",
       "         9.18181818, 10.        ]),\n",
       " array([11.        , 11.81818182, 12.63636364, 13.45454545, 14.27272727,\n",
       "        15.09090909, 15.90909091, 16.72727273, 17.54545455, 18.36363636,\n",
       "        19.18181818, 20.        ]))"
      ]
     },
     "execution_count": 57,
     "metadata": {},
     "output_type": "execute_result"
    }
   ],
   "source": [
    "X = np.linspace(1,10, 12)\n",
    "Y = np.linspace(11,20, 12)\n",
    "X,Y"
   ]
  },
  {
   "cell_type": "code",
   "execution_count": 58,
   "metadata": {},
   "outputs": [
    {
     "data": {
      "text/plain": [
       "(array([ 1.        ,  1.81818182,  2.63636364,  3.45454545,  4.27272727,\n",
       "         5.09090909,  5.90909091,  6.72727273,  7.54545455,  8.36363636,\n",
       "         9.18181818, 10.        ]),\n",
       " (12,))"
      ]
     },
     "execution_count": 58,
     "metadata": {},
     "output_type": "execute_result"
    }
   ],
   "source": [
    "X = np.linspace(1,10, 12)\n",
    "X, X.shape"
   ]
  },
  {
   "cell_type": "code",
   "execution_count": 59,
   "metadata": {},
   "outputs": [
    {
     "data": {
      "text/plain": [
       "(array([ 1.        ,  1.81818182,  2.63636364,  3.45454545,  4.27272727,\n",
       "         5.09090909,  5.90909091,  6.72727273,  7.54545455,  8.36363636,\n",
       "         9.18181818, 10.        ]),\n",
       " (12,))"
      ]
     },
     "execution_count": 59,
     "metadata": {},
     "output_type": "execute_result"
    }
   ],
   "source": [
    "X = np.linspace(1,10, 12)\n",
    "X, X.shape"
   ]
  },
  {
   "cell_type": "code",
   "execution_count": 83,
   "metadata": {},
   "outputs": [
    {
     "data": {
      "text/plain": [
       "array([[ 1.        ,  1.81818182,  2.63636364],\n",
       "       [ 3.45454545,  4.27272727,  5.09090909],\n",
       "       [ 5.90909091,  6.72727273,  7.54545455],\n",
       "       [ 8.36363636,  9.18181818, 10.        ]])"
      ]
     },
     "execution_count": 83,
     "metadata": {},
     "output_type": "execute_result"
    }
   ],
   "source": [
    "# Reshaping/ change the shape = 3 rows 4 columns/value size same hote hbe/(3,4)---reshape-->(4,3)\n",
    "X.reshape(4,3)"
   ]
  },
  {
   "cell_type": "code",
   "execution_count": 61,
   "metadata": {},
   "outputs": [
    {
     "data": {
      "text/plain": [
       "array([[ 1.        ],\n",
       "       [ 1.81818182],\n",
       "       [ 2.63636364],\n",
       "       [ 3.45454545],\n",
       "       [ 4.27272727],\n",
       "       [ 5.09090909],\n",
       "       [ 5.90909091],\n",
       "       [ 6.72727273],\n",
       "       [ 7.54545455],\n",
       "       [ 8.36363636],\n",
       "       [ 9.18181818],\n",
       "       [10.        ]])"
      ]
     },
     "execution_count": 61,
     "metadata": {},
     "output_type": "execute_result"
    }
   ],
   "source": [
    "X.reshape(-1,1)"
   ]
  },
  {
   "cell_type": "code",
   "execution_count": 62,
   "metadata": {},
   "outputs": [
    {
     "data": {
      "text/plain": [
       "(array([  0.,   0.,   0.,   0.,   0.,  14.,  28.,  42.,   0.,  28.,  56.,\n",
       "         84.,   0.,  42.,  84., 126.]),\n",
       " (4, 4))"
      ]
     },
     "execution_count": 62,
     "metadata": {},
     "output_type": "execute_result"
    }
   ],
   "source": [
    "# into 1D\n",
    "arr8.ravel(),arr8.shape"
   ]
  },
  {
   "cell_type": "code",
   "execution_count": 63,
   "metadata": {},
   "outputs": [
    {
     "data": {
      "text/plain": [
       "array([[ 1.        ],\n",
       "       [ 1.81818182],\n",
       "       [ 2.63636364],\n",
       "       [ 3.45454545],\n",
       "       [ 4.27272727],\n",
       "       [ 5.09090909],\n",
       "       [ 5.90909091],\n",
       "       [ 6.72727273],\n",
       "       [ 7.54545455],\n",
       "       [ 8.36363636],\n",
       "       [ 9.18181818],\n",
       "       [10.        ]])"
      ]
     },
     "execution_count": 63,
     "metadata": {},
     "output_type": "execute_result"
    }
   ],
   "source": [
    "X.reshape(-1,1) #columns gulo ke rows korbe"
   ]
  },
  {
   "cell_type": "code",
   "execution_count": 64,
   "metadata": {},
   "outputs": [
    {
     "data": {
      "text/plain": [
       "array([[ 1.        ],\n",
       "       [ 1.81818182],\n",
       "       [ 2.63636364],\n",
       "       [ 3.45454545],\n",
       "       [ 4.27272727],\n",
       "       [ 5.09090909],\n",
       "       [ 5.90909091],\n",
       "       [ 6.72727273],\n",
       "       [ 7.54545455],\n",
       "       [ 8.36363636],\n",
       "       [ 9.18181818],\n",
       "       [10.        ]])"
      ]
     },
     "execution_count": 64,
     "metadata": {},
     "output_type": "execute_result"
    }
   ],
   "source": [
    "X.reshape(-1,1)"
   ]
  },
  {
   "cell_type": "code",
   "execution_count": 65,
   "metadata": {},
   "outputs": [
    {
     "data": {
      "text/plain": [
       "array([[ 1.        ,  1.81818182,  2.63636364,  3.45454545,  4.27272727,\n",
       "         5.09090909,  5.90909091,  6.72727273,  7.54545455,  8.36363636,\n",
       "         9.18181818, 10.        ]])"
      ]
     },
     "execution_count": 65,
     "metadata": {},
     "output_type": "execute_result"
    }
   ],
   "source": [
    "X.reshape(1,-1)"
   ]
  },
  {
   "cell_type": "code",
   "execution_count": 66,
   "metadata": {},
   "outputs": [
    {
     "data": {
      "text/plain": [
       "array([[  0.,   0.,   0.,   0.],\n",
       "       [  0.,  14.,  28.,  42.],\n",
       "       [  0.,  28.,  56.,  84.],\n",
       "       [  0.,  42.,  84., 126.]])"
      ]
     },
     "execution_count": 66,
     "metadata": {},
     "output_type": "execute_result"
    }
   ],
   "source": [
    "arr8"
   ]
  },
  {
   "cell_type": "code",
   "execution_count": 67,
   "metadata": {},
   "outputs": [
    {
     "data": {
      "text/plain": [
       "array([  0.,   0.,   0.,   0.,   0.,  14.,  28.,  42.,   0.,  28.,  56.,\n",
       "        84.,   0.,  42.,  84., 126.])"
      ]
     },
     "execution_count": 67,
     "metadata": {},
     "output_type": "execute_result"
    }
   ],
   "source": [
    "# into 1D\n",
    "arr8.ravel()"
   ]
  },
  {
   "cell_type": "code",
   "execution_count": 68,
   "metadata": {},
   "outputs": [
    {
     "data": {
      "text/plain": [
       "array([  0.,   0.,   0.,   0.,   0.,  14.,  28.,  42.,   0.,  28.,  56.,\n",
       "        84.,   0.,  42.,  84., 126.])"
      ]
     },
     "execution_count": 68,
     "metadata": {},
     "output_type": "execute_result"
    }
   ],
   "source": [
    "arr8.flatten()  # into 1D"
   ]
  },
  {
   "cell_type": "code",
   "execution_count": 69,
   "metadata": {},
   "outputs": [],
   "source": [
    "arr9 = np.array([\n",
    "    [2,3],\n",
    "    [41,5],\n",
    "    [7,8]\n",
    "])"
   ]
  },
  {
   "cell_type": "code",
   "execution_count": 70,
   "metadata": {},
   "outputs": [
    {
     "data": {
      "text/plain": [
       "array([[ 2,  3],\n",
       "       [41,  5],\n",
       "       [ 7,  8]])"
      ]
     },
     "execution_count": 70,
     "metadata": {},
     "output_type": "execute_result"
    }
   ],
   "source": [
    "arr9"
   ]
  },
  {
   "cell_type": "code",
   "execution_count": 71,
   "metadata": {},
   "outputs": [
    {
     "data": {
      "text/plain": [
       "array([[ 2, 41,  7],\n",
       "       [ 3,  5,  8]])"
      ]
     },
     "execution_count": 71,
     "metadata": {},
     "output_type": "execute_result"
    }
   ],
   "source": [
    "arr9.T      # Transposing MAtrix"
   ]
  },
  {
   "cell_type": "code",
   "execution_count": 72,
   "metadata": {},
   "outputs": [
    {
     "data": {
      "text/plain": [
       "array([[ 2, 41,  7],\n",
       "       [ 3,  5,  8]])"
      ]
     },
     "execution_count": 72,
     "metadata": {},
     "output_type": "execute_result"
    }
   ],
   "source": [
    "arr9.transpose()  # Transposing MAtrix"
   ]
  },
  {
   "cell_type": "code",
   "execution_count": 73,
   "metadata": {},
   "outputs": [
    {
     "data": {
      "text/plain": [
       "(array([0, 1, 0], dtype=int64), 2)"
      ]
     },
     "execution_count": 73,
     "metadata": {},
     "output_type": "execute_result"
    }
   ],
   "source": [
    "arr9.argmin(axis=1), arr9.argmax() #argmin/argmax-->index return korbe"
   ]
  },
  {
   "cell_type": "code",
   "execution_count": null,
   "metadata": {},
   "outputs": [],
   "source": []
  }
 ],
 "metadata": {
  "kernelspec": {
   "display_name": "Python 3",
   "language": "python",
   "name": "python3"
  },
  "language_info": {
   "codemirror_mode": {
    "name": "ipython",
    "version": 3
   },
   "file_extension": ".py",
   "mimetype": "text/x-python",
   "name": "python",
   "nbconvert_exporter": "python",
   "pygments_lexer": "ipython3",
   "version": "3.7.6"
  }
 },
 "nbformat": 4,
 "nbformat_minor": 4
}
